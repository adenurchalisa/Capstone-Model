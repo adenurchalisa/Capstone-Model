{
  "nbformat": 4,
  "nbformat_minor": 0,
  "metadata": {
    "colab": {
      "provenance": [],
      "authorship_tag": "ABX9TyP1ixelRt5GNE5eH2NzfByN",
      "include_colab_link": true
    },
    "kernelspec": {
      "name": "python3",
      "display_name": "Python 3"
    },
    "language_info": {
      "name": "python"
    }
  },
  "cells": [
    {
      "cell_type": "markdown",
      "metadata": {
        "id": "view-in-github",
        "colab_type": "text"
      },
      "source": [
        "<a href=\"https://colab.research.google.com/github/adenurchalisa/Capstone-Model/blob/main/model_prediksi_1.ipynb\" target=\"_parent\"><img src=\"https://colab.research.google.com/assets/colab-badge.svg\" alt=\"Open In Colab\"/></a>"
      ]
    },
    {
      "cell_type": "code",
      "execution_count": 1,
      "metadata": {
        "id": "e_yNBVtZ44Bf"
      },
      "outputs": [],
      "source": [
        "import pandas as pd\n",
        "import numpy as np\n",
        "from sklearn.preprocessing import LabelEncoder\n",
        "from xgboost import XGBRegressor\n",
        "from sklearn.metrics import mean_absolute_error, mean_squared_error\n",
        "from sklearn.model_selection import RandomizedSearchCV, TimeSeriesSplit\n",
        "import matplotlib.pyplot as plt"
      ]
    },
    {
      "cell_type": "code",
      "source": [
        "# 1. Mount Google Drive (jika di Colab)\n",
        "from google.colab import drive\n",
        "drive.mount('/content/drive')"
      ],
      "metadata": {
        "colab": {
          "base_uri": "https://localhost:8080/"
        },
        "id": "GH6h6uGl5UGY",
        "outputId": "0371cb60-50ba-459c-fd2e-487f96a116b7"
      },
      "execution_count": 2,
      "outputs": [
        {
          "output_type": "stream",
          "name": "stdout",
          "text": [
            "Mounted at /content/drive\n"
          ]
        }
      ]
    },
    {
      "cell_type": "code",
      "source": [
        "\n",
        "file_path = '/content/drive/MyDrive/capstoneku/data_transaksi_advanced.csv'\n",
        "df = pd.read_csv(file_path)\n",
        "df['tanggal'] = pd.to_datetime(df['tanggal'])"
      ],
      "metadata": {
        "id": "UXuO_SuG5eR8"
      },
      "execution_count": 3,
      "outputs": []
    },
    {
      "cell_type": "code",
      "source": [
        "# 2. Preprocessing Waktu\n",
        "df = df.drop(columns=['rating', 'anomaly_flag', 'id_transaksi'])\n",
        "df['bulan'] = df['tanggal'].dt.month\n",
        "df['tahun'] = df['tanggal'].dt.year\n",
        "df['hari'] = df['tanggal'].dt.day\n",
        "df['hari_ke'] = df['tanggal'].dt.dayofweek\n",
        "df['jam'] = pd.to_datetime(df['waktu'], format='%H:%M').dt.hour\n",
        "df = df.drop(columns=['tanggal', 'waktu'])"
      ],
      "metadata": {
        "id": "XkoAvbHo5rL3"
      },
      "execution_count": 4,
      "outputs": []
    },
    {
      "cell_type": "code",
      "source": [
        "# 3. Fitur Musiman/Event\n",
        "df['is_ramadan'] = (\n",
        "    ((df['tahun'] == 2022) & (df['bulan'] == 4)) |\n",
        "    ((df['tahun'] == 2023) & (df['bulan'].isin([3, 4]))) |\n",
        "    ((df['tahun'] == 2024) & (df['bulan'].isin([3, 4])))\n",
        ").astype(int)\n",
        "\n",
        "df['is_lebaran'] = (\n",
        "    ((df['tahun'] == 2022) & (df['bulan'] == 5)) |\n",
        "    ((df['tahun'] == 2023) & (df['bulan'] == 4)) |\n",
        "    ((df['tahun'] == 2024) & (df['bulan'] == 4))\n",
        ").astype(int)\n",
        "\n",
        "df['is_libur_sekolah'] = df['bulan'].isin([6, 7]).astype(int)\n",
        "df['is_akhir_tahun'] = (df['bulan'] == 12).astype(int)"
      ],
      "metadata": {
        "id": "FDvJPjQIWX4y"
      },
      "execution_count": 5,
      "outputs": []
    },
    {
      "cell_type": "code",
      "source": [
        "# 4. Label Encoding Kategori\n",
        "le_profil = LabelEncoder()\n",
        "df['profil_enc'] = le_profil.fit_transform(df['profil'])\n",
        "le_mp = LabelEncoder()\n",
        "df['metode_pembayaran_enc'] = le_mp.fit_transform(df['metode_pembayaran'])\n",
        "le_lokasi = LabelEncoder()\n",
        "df['lokasi_enc'] = le_lokasi.fit_transform(df['lokasi'])"
      ],
      "metadata": {
        "id": "liZRZa615t0e"
      },
      "execution_count": 6,
      "outputs": []
    },
    {
      "cell_type": "code",
      "source": [
        "# 5. Filter Pengeluaran Saja\n",
        "df_pengeluaran = df[df['tipe'] == 'keluar'].copy()"
      ],
      "metadata": {
        "id": "punuwDqH5wTq"
      },
      "execution_count": 7,
      "outputs": []
    },
    {
      "cell_type": "code",
      "source": [
        "# 6. Agregasi Bulanan per User\n",
        "agg = df_pengeluaran.groupby(['user_id', 'tahun', 'bulan']).agg(\n",
        "    total_pengeluaran=('nominal', 'sum'),\n",
        "    jumlah_transaksi=('nominal', 'count'),\n",
        "    rata2_transaksi=('nominal', 'mean'),\n",
        "    profil_enc=('profil_enc', 'first'),\n",
        "    metode_pembayaran_enc=('metode_pembayaran_enc', lambda x: x.mode()[0] if len(x) else 0),\n",
        "    lokasi_enc=('lokasi_enc', lambda x: x.mode()[0] if len(x) else 0)\n",
        ").reset_index()\n",
        "agg = agg.sort_values(['user_id', 'tahun', 'bulan'])"
      ],
      "metadata": {
        "id": "OciNyaTm5ypK"
      },
      "execution_count": 8,
      "outputs": []
    },
    {
      "cell_type": "code",
      "source": [
        "# 7. Fitur Derivatif Rolling/statistik\n",
        "agg['pengeluaran_bulan_lalu'] = agg.groupby('user_id')['total_pengeluaran'].shift(1)\n",
        "agg['rolling3_pengeluaran'] = agg.groupby('user_id')['total_pengeluaran'].rolling(window=3, min_periods=1).mean().shift(1).values\n",
        "agg['rolling3_std'] = agg.groupby('user_id')['total_pengeluaran'].rolling(window=3, min_periods=1).std().shift(1).values\n",
        "agg['rolling3_min'] = agg.groupby('user_id')['total_pengeluaran'].rolling(window=3, min_periods=1).min().shift(1).values\n",
        "agg['rolling3_max'] = agg.groupby('user_id')['total_pengeluaran'].rolling(window=3, min_periods=1).max().shift(1).values\n",
        "agg['trend_bulan'] = (agg['total_pengeluaran'] - agg['pengeluaran_bulan_lalu']) / (agg['pengeluaran_bulan_lalu'] + 1)\n",
        "agg['target'] = agg.groupby('user_id')['total_pengeluaran'].shift(-1)"
      ],
      "metadata": {
        "id": "SEFnRUS450fj"
      },
      "execution_count": 9,
      "outputs": []
    },
    {
      "cell_type": "code",
      "source": [
        "# 8. Fitur Musiman/Event di agg\n",
        "agg['is_ramadan'] = (\n",
        "    ((agg['tahun'] == 2022) & (agg['bulan'] == 4)) |\n",
        "    ((agg['tahun'] == 2023) & (agg['bulan'].isin([3, 4]))) |\n",
        "    ((agg['tahun'] == 2024) & (agg['bulan'].isin([3, 4])))\n",
        ").astype(int)\n",
        "agg['is_lebaran'] = (\n",
        "    ((agg['tahun'] == 2022) & (agg['bulan'] == 5)) |\n",
        "    ((agg['tahun'] == 2023) & (agg['bulan'] == 4)) |\n",
        "    ((agg['tahun'] == 2024) & (agg['bulan'] == 4))\n",
        ").astype(int)\n",
        "agg['is_libur_sekolah'] = agg['bulan'].isin([6, 7]).astype(int)\n",
        "agg['is_akhir_tahun'] = (agg['bulan'] == 12).astype(int)"
      ],
      "metadata": {
        "id": "j5KnuxaDAB75"
      },
      "execution_count": 10,
      "outputs": []
    },
    {
      "cell_type": "code",
      "source": [
        "# 9. Drop NA Baris\n",
        "agg = agg.dropna(subset=[\n",
        "    'target', 'pengeluaran_bulan_lalu', 'rolling3_pengeluaran',\n",
        "    'rolling3_std', 'rolling3_min', 'rolling3_max', 'trend_bulan'\n",
        "]).reset_index(drop=True)"
      ],
      "metadata": {
        "id": "4zL3kMQd569P"
      },
      "execution_count": 11,
      "outputs": []
    },
    {
      "cell_type": "code",
      "source": [
        "# 10. Split Train/Test\n",
        "train = agg[agg['tahun'] < 2024]\n",
        "test = agg[agg['tahun'] == 2024]"
      ],
      "metadata": {
        "id": "9rGfRTwb59EE"
      },
      "execution_count": 12,
      "outputs": []
    },
    {
      "cell_type": "code",
      "source": [
        "# PILIH FITUR TANPA DATA LEAKAGE\n",
        "fitur = [\n",
        "    'profil_enc', 'metode_pembayaran_enc', 'lokasi_enc', 'bulan',\n",
        "    'pengeluaran_bulan_lalu', 'rolling3_pengeluaran',\n",
        "    'rolling3_std', 'rolling3_min', 'rolling3_max', 'trend_bulan',\n",
        "    'is_ramadan', 'is_lebaran', 'is_libur_sekolah', 'is_akhir_tahun'\n",
        "]\n",
        "X_train = train[fitur]\n",
        "y_train = train['target']\n",
        "X_test = test[fitur]\n",
        "y_test = test['target']"
      ],
      "metadata": {
        "id": "SsH9uzj96BKV"
      },
      "execution_count": 13,
      "outputs": []
    },
    {
      "cell_type": "code",
      "source": [
        "# Transformasi target (log)\n",
        "y_train_log = np.log1p(y_train)\n",
        "y_test_log = np.log1p(y_test)"
      ],
      "metadata": {
        "id": "7dqu83kDJLMj"
      },
      "execution_count": 14,
      "outputs": []
    },
    {
      "cell_type": "code",
      "source": [
        "# MODEL XGBOOST\n",
        "param_grid = {\n",
        "    'n_estimators': [80, 100, 120, 140, 160],\n",
        "    'max_depth': [3, 4, 5, 6],\n",
        "    'learning_rate': [0.08, 0.1, 0.12, 0.15],\n",
        "    'subsample': [0.5, 0.6, 0.7],\n",
        "    'colsample_bytree': [0.7, 0.8, 0.9],\n",
        "    'gamma': [3, 5, 7, 10],\n",
        "    'reg_alpha': [0, 0.1, 0.5, 1],\n",
        "    'reg_lambda': [1, 1.5, 2, 3]\n",
        "}\n",
        "xgb_base = XGBRegressor(random_state=42, n_jobs=-1)\n",
        "tscv = TimeSeriesSplit(n_splits=3)\n",
        "random_search = RandomizedSearchCV(\n",
        "    estimator=xgb_base,\n",
        "    param_distributions=param_grid,\n",
        "    n_iter=60,\n",
        "    scoring='neg_mean_absolute_error',\n",
        "    cv=tscv,\n",
        "    verbose=2,\n",
        "    random_state=42,\n",
        "    n_jobs=-1\n",
        ")\n",
        "random_search.fit(X_train, y_train_log)\n",
        "print(\"Best parameters found:\")\n",
        "print(random_search.best_params_)"
      ],
      "metadata": {
        "id": "ADRryGsPJNpp",
        "colab": {
          "base_uri": "https://localhost:8080/"
        },
        "outputId": "9e58345d-4c16-4f37-8a35-792b01a5330f"
      },
      "execution_count": 15,
      "outputs": [
        {
          "output_type": "stream",
          "name": "stdout",
          "text": [
            "Fitting 3 folds for each of 60 candidates, totalling 180 fits\n",
            "Best parameters found:\n",
            "{'subsample': 0.7, 'reg_lambda': 1.5, 'reg_alpha': 1, 'n_estimators': 100, 'max_depth': 5, 'learning_rate': 0.08, 'gamma': 5, 'colsample_bytree': 0.8}\n"
          ]
        }
      ]
    },
    {
      "cell_type": "code",
      "source": [
        "# EVALUASI\n",
        "best_model = random_search.best_estimator_\n",
        "y_pred_log = best_model.predict(X_test)\n",
        "y_pred = np.expm1(y_pred_log)\n",
        "mae = mean_absolute_error(y_test, y_pred)\n",
        "rmse = np.sqrt(mean_squared_error(y_test, y_pred))\n",
        "mape = np.mean(np.abs((y_test - y_pred) / y_test)) * 100\n",
        "print(f\"MAE: {mae:.2f}\")\n",
        "print(f\"RMSE: {rmse:.2f}\")\n",
        "print(f\"MAPE: {mape:.2f}%\")"
      ],
      "metadata": {
        "colab": {
          "base_uri": "https://localhost:8080/"
        },
        "id": "41tSRZI2JQBJ",
        "outputId": "674eb417-fa6f-4193-ff8a-3cbd42775635"
      },
      "execution_count": 16,
      "outputs": [
        {
          "output_type": "stream",
          "name": "stdout",
          "text": [
            "MAE: 5992964.61\n",
            "RMSE: 10269925.25\n",
            "MAPE: 424.02%\n"
          ]
        }
      ]
    }
  ]
}