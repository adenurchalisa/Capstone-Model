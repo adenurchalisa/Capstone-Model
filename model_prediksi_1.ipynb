{
  "nbformat": 4,
  "nbformat_minor": 0,
  "metadata": {
    "colab": {
      "provenance": [],
      "authorship_tag": "ABX9TyOhCMWUOlN+8g2zm1yHZjc0",
      "include_colab_link": true
    },
    "kernelspec": {
      "name": "python3",
      "display_name": "Python 3"
    },
    "language_info": {
      "name": "python"
    }
  },
  "cells": [
    {
      "cell_type": "markdown",
      "metadata": {
        "id": "view-in-github",
        "colab_type": "text"
      },
      "source": [
        "<a href=\"https://colab.research.google.com/github/adenurchalisa/Capstone-Model/blob/main/model_prediksi_1.ipynb\" target=\"_parent\"><img src=\"https://colab.research.google.com/assets/colab-badge.svg\" alt=\"Open In Colab\"/></a>"
      ]
    },
    {
      "cell_type": "code",
      "execution_count": 1,
      "metadata": {
        "id": "e_yNBVtZ44Bf"
      },
      "outputs": [],
      "source": [
        "import pandas as pd\n",
        "import numpy as np\n",
        "from sklearn.preprocessing import LabelEncoder\n",
        "from xgboost import XGBRegressor\n",
        "from sklearn.metrics import mean_absolute_error, mean_squared_error\n",
        "import matplotlib.pyplot as plt\n",
        "from datetime import datetime"
      ]
    },
    {
      "cell_type": "code",
      "source": [
        "# 1. Mount Google Drive (jika di Colab)\n",
        "from google.colab import drive\n",
        "drive.mount('/content/drive')"
      ],
      "metadata": {
        "colab": {
          "base_uri": "https://localhost:8080/"
        },
        "id": "GH6h6uGl5UGY",
        "outputId": "6e7ee72d-9234-4e7b-faed-e147c7d8bad0"
      },
      "execution_count": 2,
      "outputs": [
        {
          "output_type": "stream",
          "name": "stdout",
          "text": [
            "Mounted at /content/drive\n"
          ]
        }
      ]
    },
    {
      "cell_type": "code",
      "source": [
        "file_path = '/content/drive/MyDrive/capstoneku/data_transaksi_advanced.csv'\n",
        "df = pd.read_csv(file_path)\n",
        "df['tanggal'] = pd.to_datetime(df['tanggal'])"
      ],
      "metadata": {
        "id": "UXuO_SuG5eR8"
      },
      "execution_count": 3,
      "outputs": []
    },
    {
      "cell_type": "code",
      "source": [
        "# 2. Preprocessing Dasar\n",
        "df = df.drop(columns=['rating', 'anomaly_flag', 'id_transaksi'])\n",
        "df['bulan'] = df['tanggal'].dt.month\n",
        "df['tahun'] = df['tanggal'].dt.year\n",
        "df['jam'] = pd.to_datetime(df['waktu'], format='%H:%M').dt.hour\n",
        "df = df.drop(columns=['tanggal', 'waktu'])"
      ],
      "metadata": {
        "id": "XkoAvbHo5rL3"
      },
      "execution_count": 4,
      "outputs": []
    },
    {
      "cell_type": "code",
      "source": [
        "# 3. Fitur Musiman Sederhana\n",
        "df['is_ramadan'] = (\n",
        "    ((df['tahun'] == 2022) & (df['bulan'] == 4)) |\n",
        "    ((df['tahun'] == 2023) & (df['bulan'].isin([3, 4]))) |\n",
        "    ((df['tahun'] == 2024) & (df['bulan'].isin([3, 4])))\n",
        ").astype(int)\n",
        "\n",
        "df['is_lebaran'] = (\n",
        "    ((df['tahun'] == 2022) & (df['bulan'] == 5)) |\n",
        "    ((df['tahun'] == 2023) & (df['bulan'] == 4)) |\n",
        "    ((df['tahun'] == 2024) & (df['bulan'] == 4))\n",
        ").astype(int)\n",
        "\n",
        "df['is_akhir_tahun'] = (df['bulan'] == 12).astype(int)"
      ],
      "metadata": {
        "id": "FDvJPjQIWX4y"
      },
      "execution_count": 5,
      "outputs": []
    },
    {
      "cell_type": "code",
      "source": [
        "# 4. Filter data pengeluaran saja\n",
        "df_pengeluaran = df[df['tipe'] == 'keluar'].copy()"
      ],
      "metadata": {
        "id": "liZRZa615t0e"
      },
      "execution_count": 6,
      "outputs": []
    },
    {
      "cell_type": "code",
      "source": [
        "# 5. Agregasi bulanan\n",
        "agg = df_pengeluaran.groupby(['user_id', 'tahun', 'bulan']).agg(\n",
        "    total_pengeluaran=('nominal', 'sum'),\n",
        "    jumlah_transaksi=('nominal', 'count')\n",
        ").reset_index()\n",
        "agg = agg.sort_values(['user_id', 'tahun', 'bulan'])"
      ],
      "metadata": {
        "id": "punuwDqH5wTq"
      },
      "execution_count": 7,
      "outputs": []
    },
    {
      "cell_type": "code",
      "source": [
        "# 6. Time-series features (sederhana)\n",
        "agg['pengeluaran_bulan_lalu'] = agg.groupby('user_id')['total_pengeluaran'].shift(1)\n",
        "agg['rolling3_pengeluaran'] = agg.groupby('user_id')['total_pengeluaran'].rolling(window=3, min_periods=1).mean().shift(1).values\n",
        "agg['target'] = agg.groupby('user_id')['total_pengeluaran'].shift(-1)"
      ],
      "metadata": {
        "id": "OciNyaTm5ypK"
      },
      "execution_count": 8,
      "outputs": []
    },
    {
      "cell_type": "code",
      "source": [
        "# 7. Tambahkan fitur musiman ke agregasi\n",
        "agg['is_ramadan'] = (\n",
        "    ((agg['tahun'] == 2022) & (agg['bulan'] == 4)) |\n",
        "    ((agg['tahun'] == 2023) & (agg['bulan'].isin([3, 4]))) |\n",
        "    ((agg['tahun'] == 2024) & (agg['bulan'].isin([3, 4])))\n",
        ").astype(int)\n",
        "agg['is_lebaran'] = (\n",
        "    ((agg['tahun'] == 2022) & (agg['bulan'] == 5)) |\n",
        "    ((agg['tahun'] == 2023) & (agg['bulan'] == 4)) |\n",
        "    ((agg['tahun'] == 2024) & (agg['bulan'] == 4))\n",
        ").astype(int)\n",
        "agg['is_akhir_tahun'] = (agg['bulan'] == 12).astype(int)"
      ],
      "metadata": {
        "id": "SEFnRUS450fj"
      },
      "execution_count": 9,
      "outputs": []
    },
    {
      "cell_type": "code",
      "source": [
        "# 8. Drop NA baris\n",
        "agg = agg.dropna(subset=['target', 'pengeluaran_bulan_lalu']).reset_index(drop=True)"
      ],
      "metadata": {
        "id": "j5KnuxaDAB75"
      },
      "execution_count": 10,
      "outputs": []
    },
    {
      "cell_type": "code",
      "source": [
        "# 9. Split data\n",
        "train = agg[agg['tahun'] < 2024]\n",
        "test = agg[agg['tahun'] == 2024]"
      ],
      "metadata": {
        "id": "4zL3kMQd569P"
      },
      "execution_count": 11,
      "outputs": []
    },
    {
      "cell_type": "code",
      "source": [
        "# 10. Fitur yang benar-benar penting saja\n",
        "fitur_sederhana = [\n",
        "    'pengeluaran_bulan_lalu',\n",
        "    'rolling3_pengeluaran',\n",
        "    'bulan',\n",
        "    'is_ramadan',\n",
        "    'is_lebaran',\n",
        "    'is_akhir_tahun'\n",
        "]\n",
        "X_train = train[fitur_sederhana]\n",
        "y_train = train['target']\n",
        "X_test = test[fitur_sederhana]\n",
        "y_test = test['target']"
      ],
      "metadata": {
        "id": "9rGfRTwb59EE"
      },
      "execution_count": 12,
      "outputs": []
    },
    {
      "cell_type": "code",
      "source": [
        "# 11. Log transform target (untuk stabilitas)\n",
        "y_train_log = np.log1p(y_train)\n",
        "y_test_log = np.log1p(y_test)"
      ],
      "metadata": {
        "id": "SsH9uzj96BKV"
      },
      "execution_count": 13,
      "outputs": []
    },
    {
      "cell_type": "code",
      "source": [
        "# 12. BASELINE MODEL: Pengeluaran bulan lalu\n",
        "print(\"\\n===== BASELINE MODEL =====\")\n",
        "baseline_pred = X_test['pengeluaran_bulan_lalu'].values\n",
        "baseline_mae = mean_absolute_error(y_test, baseline_pred)\n",
        "baseline_rmse = np.sqrt(mean_squared_error(y_test, baseline_pred))\n",
        "baseline_mape = np.mean(np.abs((y_test - baseline_pred) / y_test)) * 100\n",
        "print(f\"Baseline MAE: {baseline_mae:.2f}\")\n",
        "print(f\"Baseline RMSE: {baseline_rmse:.2f}\")\n",
        "print(f\"Baseline MAPE: {baseline_mape:.2f}%\")"
      ],
      "metadata": {
        "id": "7dqu83kDJLMj",
        "colab": {
          "base_uri": "https://localhost:8080/"
        },
        "outputId": "6103ec7e-f817-4d93-fed4-269233903a5f"
      },
      "execution_count": 14,
      "outputs": [
        {
          "output_type": "stream",
          "name": "stdout",
          "text": [
            "\n",
            "===== BASELINE MODEL =====\n",
            "Baseline MAE: 8093284.09\n",
            "Baseline RMSE: 11938439.10\n",
            "Baseline MAPE: 674.36%\n"
          ]
        }
      ]
    },
    {
      "cell_type": "code",
      "source": [
        "# 13. MODEL SEDERHANA DENGAN XGBOOST\n",
        "print(\"\\n===== MODEL SEDERHANA =====\")\n",
        "model = XGBRegressor(\n",
        "    n_estimators=100,\n",
        "    max_depth=4,\n",
        "    learning_rate=0.1,\n",
        "    random_state=42\n",
        ")\n",
        "model.fit(X_train, y_train_log)"
      ],
      "metadata": {
        "id": "ADRryGsPJNpp",
        "colab": {
          "base_uri": "https://localhost:8080/",
          "height": 288
        },
        "outputId": "cfd75609-2908-4a1d-e25a-3a6f640dfdec"
      },
      "execution_count": 15,
      "outputs": [
        {
          "output_type": "stream",
          "name": "stdout",
          "text": [
            "\n",
            "===== MODEL SEDERHANA =====\n"
          ]
        },
        {
          "output_type": "execute_result",
          "data": {
            "text/plain": [
              "XGBRegressor(base_score=None, booster=None, callbacks=None,\n",
              "             colsample_bylevel=None, colsample_bynode=None,\n",
              "             colsample_bytree=None, device=None, early_stopping_rounds=None,\n",
              "             enable_categorical=False, eval_metric=None, feature_types=None,\n",
              "             gamma=None, grow_policy=None, importance_type=None,\n",
              "             interaction_constraints=None, learning_rate=0.1, max_bin=None,\n",
              "             max_cat_threshold=None, max_cat_to_onehot=None,\n",
              "             max_delta_step=None, max_depth=4, max_leaves=None,\n",
              "             min_child_weight=None, missing=nan, monotone_constraints=None,\n",
              "             multi_strategy=None, n_estimators=100, n_jobs=None,\n",
              "             num_parallel_tree=None, random_state=42, ...)"
            ],
            "text/html": [
              "<style>#sk-container-id-1 {\n",
              "  /* Definition of color scheme common for light and dark mode */\n",
              "  --sklearn-color-text: #000;\n",
              "  --sklearn-color-text-muted: #666;\n",
              "  --sklearn-color-line: gray;\n",
              "  /* Definition of color scheme for unfitted estimators */\n",
              "  --sklearn-color-unfitted-level-0: #fff5e6;\n",
              "  --sklearn-color-unfitted-level-1: #f6e4d2;\n",
              "  --sklearn-color-unfitted-level-2: #ffe0b3;\n",
              "  --sklearn-color-unfitted-level-3: chocolate;\n",
              "  /* Definition of color scheme for fitted estimators */\n",
              "  --sklearn-color-fitted-level-0: #f0f8ff;\n",
              "  --sklearn-color-fitted-level-1: #d4ebff;\n",
              "  --sklearn-color-fitted-level-2: #b3dbfd;\n",
              "  --sklearn-color-fitted-level-3: cornflowerblue;\n",
              "\n",
              "  /* Specific color for light theme */\n",
              "  --sklearn-color-text-on-default-background: var(--sg-text-color, var(--theme-code-foreground, var(--jp-content-font-color1, black)));\n",
              "  --sklearn-color-background: var(--sg-background-color, var(--theme-background, var(--jp-layout-color0, white)));\n",
              "  --sklearn-color-border-box: var(--sg-text-color, var(--theme-code-foreground, var(--jp-content-font-color1, black)));\n",
              "  --sklearn-color-icon: #696969;\n",
              "\n",
              "  @media (prefers-color-scheme: dark) {\n",
              "    /* Redefinition of color scheme for dark theme */\n",
              "    --sklearn-color-text-on-default-background: var(--sg-text-color, var(--theme-code-foreground, var(--jp-content-font-color1, white)));\n",
              "    --sklearn-color-background: var(--sg-background-color, var(--theme-background, var(--jp-layout-color0, #111)));\n",
              "    --sklearn-color-border-box: var(--sg-text-color, var(--theme-code-foreground, var(--jp-content-font-color1, white)));\n",
              "    --sklearn-color-icon: #878787;\n",
              "  }\n",
              "}\n",
              "\n",
              "#sk-container-id-1 {\n",
              "  color: var(--sklearn-color-text);\n",
              "}\n",
              "\n",
              "#sk-container-id-1 pre {\n",
              "  padding: 0;\n",
              "}\n",
              "\n",
              "#sk-container-id-1 input.sk-hidden--visually {\n",
              "  border: 0;\n",
              "  clip: rect(1px 1px 1px 1px);\n",
              "  clip: rect(1px, 1px, 1px, 1px);\n",
              "  height: 1px;\n",
              "  margin: -1px;\n",
              "  overflow: hidden;\n",
              "  padding: 0;\n",
              "  position: absolute;\n",
              "  width: 1px;\n",
              "}\n",
              "\n",
              "#sk-container-id-1 div.sk-dashed-wrapped {\n",
              "  border: 1px dashed var(--sklearn-color-line);\n",
              "  margin: 0 0.4em 0.5em 0.4em;\n",
              "  box-sizing: border-box;\n",
              "  padding-bottom: 0.4em;\n",
              "  background-color: var(--sklearn-color-background);\n",
              "}\n",
              "\n",
              "#sk-container-id-1 div.sk-container {\n",
              "  /* jupyter's `normalize.less` sets `[hidden] { display: none; }`\n",
              "     but bootstrap.min.css set `[hidden] { display: none !important; }`\n",
              "     so we also need the `!important` here to be able to override the\n",
              "     default hidden behavior on the sphinx rendered scikit-learn.org.\n",
              "     See: https://github.com/scikit-learn/scikit-learn/issues/21755 */\n",
              "  display: inline-block !important;\n",
              "  position: relative;\n",
              "}\n",
              "\n",
              "#sk-container-id-1 div.sk-text-repr-fallback {\n",
              "  display: none;\n",
              "}\n",
              "\n",
              "div.sk-parallel-item,\n",
              "div.sk-serial,\n",
              "div.sk-item {\n",
              "  /* draw centered vertical line to link estimators */\n",
              "  background-image: linear-gradient(var(--sklearn-color-text-on-default-background), var(--sklearn-color-text-on-default-background));\n",
              "  background-size: 2px 100%;\n",
              "  background-repeat: no-repeat;\n",
              "  background-position: center center;\n",
              "}\n",
              "\n",
              "/* Parallel-specific style estimator block */\n",
              "\n",
              "#sk-container-id-1 div.sk-parallel-item::after {\n",
              "  content: \"\";\n",
              "  width: 100%;\n",
              "  border-bottom: 2px solid var(--sklearn-color-text-on-default-background);\n",
              "  flex-grow: 1;\n",
              "}\n",
              "\n",
              "#sk-container-id-1 div.sk-parallel {\n",
              "  display: flex;\n",
              "  align-items: stretch;\n",
              "  justify-content: center;\n",
              "  background-color: var(--sklearn-color-background);\n",
              "  position: relative;\n",
              "}\n",
              "\n",
              "#sk-container-id-1 div.sk-parallel-item {\n",
              "  display: flex;\n",
              "  flex-direction: column;\n",
              "}\n",
              "\n",
              "#sk-container-id-1 div.sk-parallel-item:first-child::after {\n",
              "  align-self: flex-end;\n",
              "  width: 50%;\n",
              "}\n",
              "\n",
              "#sk-container-id-1 div.sk-parallel-item:last-child::after {\n",
              "  align-self: flex-start;\n",
              "  width: 50%;\n",
              "}\n",
              "\n",
              "#sk-container-id-1 div.sk-parallel-item:only-child::after {\n",
              "  width: 0;\n",
              "}\n",
              "\n",
              "/* Serial-specific style estimator block */\n",
              "\n",
              "#sk-container-id-1 div.sk-serial {\n",
              "  display: flex;\n",
              "  flex-direction: column;\n",
              "  align-items: center;\n",
              "  background-color: var(--sklearn-color-background);\n",
              "  padding-right: 1em;\n",
              "  padding-left: 1em;\n",
              "}\n",
              "\n",
              "\n",
              "/* Toggleable style: style used for estimator/Pipeline/ColumnTransformer box that is\n",
              "clickable and can be expanded/collapsed.\n",
              "- Pipeline and ColumnTransformer use this feature and define the default style\n",
              "- Estimators will overwrite some part of the style using the `sk-estimator` class\n",
              "*/\n",
              "\n",
              "/* Pipeline and ColumnTransformer style (default) */\n",
              "\n",
              "#sk-container-id-1 div.sk-toggleable {\n",
              "  /* Default theme specific background. It is overwritten whether we have a\n",
              "  specific estimator or a Pipeline/ColumnTransformer */\n",
              "  background-color: var(--sklearn-color-background);\n",
              "}\n",
              "\n",
              "/* Toggleable label */\n",
              "#sk-container-id-1 label.sk-toggleable__label {\n",
              "  cursor: pointer;\n",
              "  display: flex;\n",
              "  width: 100%;\n",
              "  margin-bottom: 0;\n",
              "  padding: 0.5em;\n",
              "  box-sizing: border-box;\n",
              "  text-align: center;\n",
              "  align-items: start;\n",
              "  justify-content: space-between;\n",
              "  gap: 0.5em;\n",
              "}\n",
              "\n",
              "#sk-container-id-1 label.sk-toggleable__label .caption {\n",
              "  font-size: 0.6rem;\n",
              "  font-weight: lighter;\n",
              "  color: var(--sklearn-color-text-muted);\n",
              "}\n",
              "\n",
              "#sk-container-id-1 label.sk-toggleable__label-arrow:before {\n",
              "  /* Arrow on the left of the label */\n",
              "  content: \"▸\";\n",
              "  float: left;\n",
              "  margin-right: 0.25em;\n",
              "  color: var(--sklearn-color-icon);\n",
              "}\n",
              "\n",
              "#sk-container-id-1 label.sk-toggleable__label-arrow:hover:before {\n",
              "  color: var(--sklearn-color-text);\n",
              "}\n",
              "\n",
              "/* Toggleable content - dropdown */\n",
              "\n",
              "#sk-container-id-1 div.sk-toggleable__content {\n",
              "  max-height: 0;\n",
              "  max-width: 0;\n",
              "  overflow: hidden;\n",
              "  text-align: left;\n",
              "  /* unfitted */\n",
              "  background-color: var(--sklearn-color-unfitted-level-0);\n",
              "}\n",
              "\n",
              "#sk-container-id-1 div.sk-toggleable__content.fitted {\n",
              "  /* fitted */\n",
              "  background-color: var(--sklearn-color-fitted-level-0);\n",
              "}\n",
              "\n",
              "#sk-container-id-1 div.sk-toggleable__content pre {\n",
              "  margin: 0.2em;\n",
              "  border-radius: 0.25em;\n",
              "  color: var(--sklearn-color-text);\n",
              "  /* unfitted */\n",
              "  background-color: var(--sklearn-color-unfitted-level-0);\n",
              "}\n",
              "\n",
              "#sk-container-id-1 div.sk-toggleable__content.fitted pre {\n",
              "  /* unfitted */\n",
              "  background-color: var(--sklearn-color-fitted-level-0);\n",
              "}\n",
              "\n",
              "#sk-container-id-1 input.sk-toggleable__control:checked~div.sk-toggleable__content {\n",
              "  /* Expand drop-down */\n",
              "  max-height: 200px;\n",
              "  max-width: 100%;\n",
              "  overflow: auto;\n",
              "}\n",
              "\n",
              "#sk-container-id-1 input.sk-toggleable__control:checked~label.sk-toggleable__label-arrow:before {\n",
              "  content: \"▾\";\n",
              "}\n",
              "\n",
              "/* Pipeline/ColumnTransformer-specific style */\n",
              "\n",
              "#sk-container-id-1 div.sk-label input.sk-toggleable__control:checked~label.sk-toggleable__label {\n",
              "  color: var(--sklearn-color-text);\n",
              "  background-color: var(--sklearn-color-unfitted-level-2);\n",
              "}\n",
              "\n",
              "#sk-container-id-1 div.sk-label.fitted input.sk-toggleable__control:checked~label.sk-toggleable__label {\n",
              "  background-color: var(--sklearn-color-fitted-level-2);\n",
              "}\n",
              "\n",
              "/* Estimator-specific style */\n",
              "\n",
              "/* Colorize estimator box */\n",
              "#sk-container-id-1 div.sk-estimator input.sk-toggleable__control:checked~label.sk-toggleable__label {\n",
              "  /* unfitted */\n",
              "  background-color: var(--sklearn-color-unfitted-level-2);\n",
              "}\n",
              "\n",
              "#sk-container-id-1 div.sk-estimator.fitted input.sk-toggleable__control:checked~label.sk-toggleable__label {\n",
              "  /* fitted */\n",
              "  background-color: var(--sklearn-color-fitted-level-2);\n",
              "}\n",
              "\n",
              "#sk-container-id-1 div.sk-label label.sk-toggleable__label,\n",
              "#sk-container-id-1 div.sk-label label {\n",
              "  /* The background is the default theme color */\n",
              "  color: var(--sklearn-color-text-on-default-background);\n",
              "}\n",
              "\n",
              "/* On hover, darken the color of the background */\n",
              "#sk-container-id-1 div.sk-label:hover label.sk-toggleable__label {\n",
              "  color: var(--sklearn-color-text);\n",
              "  background-color: var(--sklearn-color-unfitted-level-2);\n",
              "}\n",
              "\n",
              "/* Label box, darken color on hover, fitted */\n",
              "#sk-container-id-1 div.sk-label.fitted:hover label.sk-toggleable__label.fitted {\n",
              "  color: var(--sklearn-color-text);\n",
              "  background-color: var(--sklearn-color-fitted-level-2);\n",
              "}\n",
              "\n",
              "/* Estimator label */\n",
              "\n",
              "#sk-container-id-1 div.sk-label label {\n",
              "  font-family: monospace;\n",
              "  font-weight: bold;\n",
              "  display: inline-block;\n",
              "  line-height: 1.2em;\n",
              "}\n",
              "\n",
              "#sk-container-id-1 div.sk-label-container {\n",
              "  text-align: center;\n",
              "}\n",
              "\n",
              "/* Estimator-specific */\n",
              "#sk-container-id-1 div.sk-estimator {\n",
              "  font-family: monospace;\n",
              "  border: 1px dotted var(--sklearn-color-border-box);\n",
              "  border-radius: 0.25em;\n",
              "  box-sizing: border-box;\n",
              "  margin-bottom: 0.5em;\n",
              "  /* unfitted */\n",
              "  background-color: var(--sklearn-color-unfitted-level-0);\n",
              "}\n",
              "\n",
              "#sk-container-id-1 div.sk-estimator.fitted {\n",
              "  /* fitted */\n",
              "  background-color: var(--sklearn-color-fitted-level-0);\n",
              "}\n",
              "\n",
              "/* on hover */\n",
              "#sk-container-id-1 div.sk-estimator:hover {\n",
              "  /* unfitted */\n",
              "  background-color: var(--sklearn-color-unfitted-level-2);\n",
              "}\n",
              "\n",
              "#sk-container-id-1 div.sk-estimator.fitted:hover {\n",
              "  /* fitted */\n",
              "  background-color: var(--sklearn-color-fitted-level-2);\n",
              "}\n",
              "\n",
              "/* Specification for estimator info (e.g. \"i\" and \"?\") */\n",
              "\n",
              "/* Common style for \"i\" and \"?\" */\n",
              "\n",
              ".sk-estimator-doc-link,\n",
              "a:link.sk-estimator-doc-link,\n",
              "a:visited.sk-estimator-doc-link {\n",
              "  float: right;\n",
              "  font-size: smaller;\n",
              "  line-height: 1em;\n",
              "  font-family: monospace;\n",
              "  background-color: var(--sklearn-color-background);\n",
              "  border-radius: 1em;\n",
              "  height: 1em;\n",
              "  width: 1em;\n",
              "  text-decoration: none !important;\n",
              "  margin-left: 0.5em;\n",
              "  text-align: center;\n",
              "  /* unfitted */\n",
              "  border: var(--sklearn-color-unfitted-level-1) 1pt solid;\n",
              "  color: var(--sklearn-color-unfitted-level-1);\n",
              "}\n",
              "\n",
              ".sk-estimator-doc-link.fitted,\n",
              "a:link.sk-estimator-doc-link.fitted,\n",
              "a:visited.sk-estimator-doc-link.fitted {\n",
              "  /* fitted */\n",
              "  border: var(--sklearn-color-fitted-level-1) 1pt solid;\n",
              "  color: var(--sklearn-color-fitted-level-1);\n",
              "}\n",
              "\n",
              "/* On hover */\n",
              "div.sk-estimator:hover .sk-estimator-doc-link:hover,\n",
              ".sk-estimator-doc-link:hover,\n",
              "div.sk-label-container:hover .sk-estimator-doc-link:hover,\n",
              ".sk-estimator-doc-link:hover {\n",
              "  /* unfitted */\n",
              "  background-color: var(--sklearn-color-unfitted-level-3);\n",
              "  color: var(--sklearn-color-background);\n",
              "  text-decoration: none;\n",
              "}\n",
              "\n",
              "div.sk-estimator.fitted:hover .sk-estimator-doc-link.fitted:hover,\n",
              ".sk-estimator-doc-link.fitted:hover,\n",
              "div.sk-label-container:hover .sk-estimator-doc-link.fitted:hover,\n",
              ".sk-estimator-doc-link.fitted:hover {\n",
              "  /* fitted */\n",
              "  background-color: var(--sklearn-color-fitted-level-3);\n",
              "  color: var(--sklearn-color-background);\n",
              "  text-decoration: none;\n",
              "}\n",
              "\n",
              "/* Span, style for the box shown on hovering the info icon */\n",
              ".sk-estimator-doc-link span {\n",
              "  display: none;\n",
              "  z-index: 9999;\n",
              "  position: relative;\n",
              "  font-weight: normal;\n",
              "  right: .2ex;\n",
              "  padding: .5ex;\n",
              "  margin: .5ex;\n",
              "  width: min-content;\n",
              "  min-width: 20ex;\n",
              "  max-width: 50ex;\n",
              "  color: var(--sklearn-color-text);\n",
              "  box-shadow: 2pt 2pt 4pt #999;\n",
              "  /* unfitted */\n",
              "  background: var(--sklearn-color-unfitted-level-0);\n",
              "  border: .5pt solid var(--sklearn-color-unfitted-level-3);\n",
              "}\n",
              "\n",
              ".sk-estimator-doc-link.fitted span {\n",
              "  /* fitted */\n",
              "  background: var(--sklearn-color-fitted-level-0);\n",
              "  border: var(--sklearn-color-fitted-level-3);\n",
              "}\n",
              "\n",
              ".sk-estimator-doc-link:hover span {\n",
              "  display: block;\n",
              "}\n",
              "\n",
              "/* \"?\"-specific style due to the `<a>` HTML tag */\n",
              "\n",
              "#sk-container-id-1 a.estimator_doc_link {\n",
              "  float: right;\n",
              "  font-size: 1rem;\n",
              "  line-height: 1em;\n",
              "  font-family: monospace;\n",
              "  background-color: var(--sklearn-color-background);\n",
              "  border-radius: 1rem;\n",
              "  height: 1rem;\n",
              "  width: 1rem;\n",
              "  text-decoration: none;\n",
              "  /* unfitted */\n",
              "  color: var(--sklearn-color-unfitted-level-1);\n",
              "  border: var(--sklearn-color-unfitted-level-1) 1pt solid;\n",
              "}\n",
              "\n",
              "#sk-container-id-1 a.estimator_doc_link.fitted {\n",
              "  /* fitted */\n",
              "  border: var(--sklearn-color-fitted-level-1) 1pt solid;\n",
              "  color: var(--sklearn-color-fitted-level-1);\n",
              "}\n",
              "\n",
              "/* On hover */\n",
              "#sk-container-id-1 a.estimator_doc_link:hover {\n",
              "  /* unfitted */\n",
              "  background-color: var(--sklearn-color-unfitted-level-3);\n",
              "  color: var(--sklearn-color-background);\n",
              "  text-decoration: none;\n",
              "}\n",
              "\n",
              "#sk-container-id-1 a.estimator_doc_link.fitted:hover {\n",
              "  /* fitted */\n",
              "  background-color: var(--sklearn-color-fitted-level-3);\n",
              "}\n",
              "</style><div id=\"sk-container-id-1\" class=\"sk-top-container\"><div class=\"sk-text-repr-fallback\"><pre>XGBRegressor(base_score=None, booster=None, callbacks=None,\n",
              "             colsample_bylevel=None, colsample_bynode=None,\n",
              "             colsample_bytree=None, device=None, early_stopping_rounds=None,\n",
              "             enable_categorical=False, eval_metric=None, feature_types=None,\n",
              "             gamma=None, grow_policy=None, importance_type=None,\n",
              "             interaction_constraints=None, learning_rate=0.1, max_bin=None,\n",
              "             max_cat_threshold=None, max_cat_to_onehot=None,\n",
              "             max_delta_step=None, max_depth=4, max_leaves=None,\n",
              "             min_child_weight=None, missing=nan, monotone_constraints=None,\n",
              "             multi_strategy=None, n_estimators=100, n_jobs=None,\n",
              "             num_parallel_tree=None, random_state=42, ...)</pre><b>In a Jupyter environment, please rerun this cell to show the HTML representation or trust the notebook. <br />On GitHub, the HTML representation is unable to render, please try loading this page with nbviewer.org.</b></div><div class=\"sk-container\" hidden><div class=\"sk-item\"><div class=\"sk-estimator fitted sk-toggleable\"><input class=\"sk-toggleable__control sk-hidden--visually\" id=\"sk-estimator-id-1\" type=\"checkbox\" checked><label for=\"sk-estimator-id-1\" class=\"sk-toggleable__label fitted sk-toggleable__label-arrow\"><div><div>XGBRegressor</div></div><div><span class=\"sk-estimator-doc-link fitted\">i<span>Fitted</span></span></div></label><div class=\"sk-toggleable__content fitted\"><pre>XGBRegressor(base_score=None, booster=None, callbacks=None,\n",
              "             colsample_bylevel=None, colsample_bynode=None,\n",
              "             colsample_bytree=None, device=None, early_stopping_rounds=None,\n",
              "             enable_categorical=False, eval_metric=None, feature_types=None,\n",
              "             gamma=None, grow_policy=None, importance_type=None,\n",
              "             interaction_constraints=None, learning_rate=0.1, max_bin=None,\n",
              "             max_cat_threshold=None, max_cat_to_onehot=None,\n",
              "             max_delta_step=None, max_depth=4, max_leaves=None,\n",
              "             min_child_weight=None, missing=nan, monotone_constraints=None,\n",
              "             multi_strategy=None, n_estimators=100, n_jobs=None,\n",
              "             num_parallel_tree=None, random_state=42, ...)</pre></div> </div></div></div></div>"
            ]
          },
          "metadata": {},
          "execution_count": 15
        }
      ]
    },
    {
      "cell_type": "code",
      "source": [
        "# 14. Evaluasi model\n",
        "y_pred_log = model.predict(X_test)\n",
        "y_pred = np.expm1(y_pred_log)\n",
        "mae = mean_absolute_error(y_test, y_pred)\n",
        "rmse = np.sqrt(mean_squared_error(y_test, y_pred))\n",
        "mape = np.mean(np.abs((y_test - y_pred) / y_test)) * 100\n",
        "print(f\"Model MAE: {mae:.2f}\")\n",
        "print(f\"Model RMSE: {rmse:.2f}\")\n",
        "print(f\"Model MAPE: {mape:.2f}%\")"
      ],
      "metadata": {
        "colab": {
          "base_uri": "https://localhost:8080/"
        },
        "id": "41tSRZI2JQBJ",
        "outputId": "e8049a98-a21d-44c4-9fe1-7ff54c0d69ac"
      },
      "execution_count": 16,
      "outputs": [
        {
          "output_type": "stream",
          "name": "stdout",
          "text": [
            "Model MAE: 6868809.13\n",
            "Model RMSE: 10591207.68\n",
            "Model MAPE: 531.16%\n"
          ]
        }
      ]
    },
    {
      "cell_type": "code",
      "source": [
        "# 15. Feature importance\n",
        "importance = pd.DataFrame({\n",
        "    'feature': fitur_sederhana,\n",
        "    'importance': model.feature_importances_\n",
        "}).sort_values('importance', ascending=False)\n",
        "print(\"\\nFeature Importance:\")\n",
        "print(importance)"
      ],
      "metadata": {
        "colab": {
          "base_uri": "https://localhost:8080/"
        },
        "id": "xxp6fRvs8PgN",
        "outputId": "1362b2b6-4b14-4ec0-83b7-64ffaab659ac"
      },
      "execution_count": 17,
      "outputs": [
        {
          "output_type": "stream",
          "name": "stdout",
          "text": [
            "\n",
            "Feature Importance:\n",
            "                  feature  importance\n",
            "1    rolling3_pengeluaran    0.345229\n",
            "2                   bulan    0.214403\n",
            "0  pengeluaran_bulan_lalu    0.192768\n",
            "3              is_ramadan    0.135455\n",
            "4              is_lebaran    0.112144\n",
            "5          is_akhir_tahun    0.000000\n"
          ]
        }
      ]
    },
    {
      "cell_type": "code",
      "source": [
        "# 16. Analisis error per user\n",
        "print(\"\\n===== ANALISIS ERROR PER USER =====\")\n",
        "df_error = pd.DataFrame({\n",
        "    'user_id': test['user_id'],\n",
        "    'bulan': test['bulan'],\n",
        "    'tahun': test['tahun'],\n",
        "    'actual': y_test.values,\n",
        "    'pred': y_pred,\n",
        "    'error': np.abs(y_test.values - y_pred),\n",
        "    'mape': 100 * np.abs(y_test.values - y_pred) / y_test.values\n",
        "})"
      ],
      "metadata": {
        "id": "ca2I-Ff19Egf",
        "colab": {
          "base_uri": "https://localhost:8080/"
        },
        "outputId": "6121f360-0d57-44bd-99c6-48f6ededc836"
      },
      "execution_count": 19,
      "outputs": [
        {
          "output_type": "stream",
          "name": "stdout",
          "text": [
            "\n",
            "===== ANALISIS ERROR PER USER =====\n"
          ]
        }
      ]
    },
    {
      "cell_type": "code",
      "source": [
        "# 17. Identifikasi user dengan error tinggi dan rendah\n",
        "user_error = df_error.groupby('user_id')['mape'].mean().sort_values()\n",
        "low_error_users = user_error[user_error <= 50].index.tolist()\n",
        "high_error_users = user_error[user_error > 200].index.tolist()\n",
        "\n",
        "print(f\"User dengan prediksi bagus (MAPE ≤ 50%): {len(low_error_users)} users\")\n",
        "print(f\"User dengan prediksi sangat buruk (MAPE > 200%): {len(high_error_users)} users\")"
      ],
      "metadata": {
        "colab": {
          "base_uri": "https://localhost:8080/"
        },
        "id": "DSMGrh8L72wH",
        "outputId": "ca98c870-20a8-4dd0-e0f8-48a9b99442a2"
      },
      "execution_count": 20,
      "outputs": [
        {
          "output_type": "stream",
          "name": "stdout",
          "text": [
            "User dengan prediksi bagus (MAPE ≤ 50%): 6 users\n",
            "User dengan prediksi sangat buruk (MAPE > 200%): 9 users\n"
          ]
        }
      ]
    },
    {
      "cell_type": "code",
      "source": [
        "# 18. Persentil distribusi error\n",
        "error_percentiles = np.percentile(df_error['mape'], [25, 50, 75, 90])\n",
        "print(f\"\\nDistribusi Error MAPE:\")\n",
        "print(f\"25% data memiliki MAPE ≤ {error_percentiles[0]:.1f}%\")\n",
        "print(f\"50% data memiliki MAPE ≤ {error_percentiles[1]:.1f}%\")\n",
        "print(f\"75% data memiliki MAPE ≤ {error_percentiles[2]:.1f}%\")\n",
        "print(f\"90% data memiliki MAPE ≤ {error_percentiles[3]:.1f}%\")"
      ],
      "metadata": {
        "colab": {
          "base_uri": "https://localhost:8080/"
        },
        "id": "Y8kucS6lDvs2",
        "outputId": "66703384-8e5e-4b63-c5b8-087e8da869cf"
      },
      "execution_count": 21,
      "outputs": [
        {
          "output_type": "stream",
          "name": "stdout",
          "text": [
            "\n",
            "Distribusi Error MAPE:\n",
            "25% data memiliki MAPE ≤ 39.5%\n",
            "50% data memiliki MAPE ≤ 62.9%\n",
            "75% data memiliki MAPE ≤ 107.4%\n",
            "90% data memiliki MAPE ≤ 803.2%\n"
          ]
        }
      ]
    },
    {
      "cell_type": "code",
      "source": [
        "# 19. Visualisasi prediksi vs aktual untuk 3 user dengan error rendah\n",
        "try:\n",
        "    plt.figure(figsize=(15, 10))\n",
        "    for i, user in enumerate(low_error_users[:3]):\n",
        "        user_data = df_error[df_error['user_id'] == user]\n",
        "        plt.subplot(3, 1, i+1)\n",
        "        plt.plot(user_data['bulan'], user_data['actual'], 'b-o', label='Aktual')\n",
        "        plt.plot(user_data['bulan'], user_data['pred'], 'r--x', label='Prediksi')\n",
        "        plt.title(f'User {user}: MAPE = {user_error[user]:.1f}%')\n",
        "        plt.xlabel('Bulan')\n",
        "        plt.ylabel('Pengeluaran')\n",
        "        plt.legend()\n",
        "    plt.tight_layout()\n",
        "    plt.savefig('prediksi_user_bagus.png')\n",
        "    plt.show()\n",
        "except:\n",
        "    print(\"Tidak bisa menampilkan visualisasi.\")"
      ],
      "metadata": {
        "colab": {
          "base_uri": "https://localhost:8080/",
          "height": 465
        },
        "id": "wcccUm_JDzT9",
        "outputId": "cf7ce41e-ea2a-43da-d5cd-1947d76bff66"
      },
      "execution_count": 22,
      "outputs": [
        {
          "output_type": "display_data",
          "data": {
            "text/plain": [
              "<Figure size 1500x1000 with 3 Axes>"
            ],
            "image/png": "[encoded data removed]"
          },
          "metadata": {}
        }
      ]
    },
    {
      "cell_type": "code",
      "source": [
        "# 20. MODEL HIBRID: Kombinasi model dan baseline (untuk mengurangi error)\n",
        "print(\"\\n===== MODEL HIBRID =====\")\n",
        "df_error['hibrid_pred'] = 0.7 * y_pred + 0.3 * baseline_pred  # 70% model, 30% baseline\n",
        "hibrid_mae = mean_absolute_error(y_test, df_error['hibrid_pred'])\n",
        "hibrid_mape = np.mean(np.abs((y_test - df_error['hibrid_pred']) / y_test)) * 100\n",
        "print(f\"Hibrid MAE: {hibrid_mae:.2f}\")\n",
        "print(f\"Hibrid MAPE: {hibrid_mape:.2f}%\")"
      ],
      "metadata": {
        "colab": {
          "base_uri": "https://localhost:8080/"
        },
        "id": "_tiz7pDeLYOc",
        "outputId": "8ea13120-9074-471f-819a-0bfa54cbf7cb"
      },
      "execution_count": 23,
      "outputs": [
        {
          "output_type": "stream",
          "name": "stdout",
          "text": [
            "\n",
            "===== MODEL HIBRID =====\n",
            "Hibrid MAE: 6606250.79\n",
            "Hibrid MAPE: 564.82%\n"
          ]
        }
      ]
    },
    {
      "cell_type": "code",
      "source": [
        "# 21. PREDIKSI BULAN BERIKUTNYA\n",
        "print(\"\\n===== PREDIKSI BULAN BERIKUTNYA =====\")\n",
        "\n",
        "# Ambil data bulan terakhir untuk tiap user\n",
        "latest_data = test.sort_values(['user_id', 'tahun', 'bulan']).groupby('user_id').last().reset_index()\n",
        "\n",
        "# Siapkan data untuk bulan berikutnya\n",
        "next_month_data = []\n",
        "for _, row in latest_data.iterrows():\n",
        "    user_id = row['user_id']\n",
        "    current_month = row['bulan']\n",
        "    current_year = row['tahun']\n",
        "\n",
        "    # Tentukan bulan & tahun berikutnya\n",
        "    next_month = current_month % 12 + 1\n",
        "    next_year = current_year + 1 if next_month == 1 else current_year\n",
        "\n",
        "    # Cek fitur musiman\n",
        "    is_ramadan = 1 if (next_year == 2024 and next_month in [3, 4]) else 0\n",
        "    is_lebaran = 1 if (next_year == 2024 and next_month == 4) else 0\n",
        "    is_akhir_tahun = 1 if next_month == 12 else 0\n",
        "\n",
        "    # Buat data input\n",
        "    next_data = {\n",
        "        'user_id': user_id,\n",
        "        'bulan': next_month,\n",
        "        'tahun': next_year,\n",
        "        'pengeluaran_bulan_lalu': row['total_pengeluaran'],\n",
        "        'rolling3_pengeluaran': row['rolling3_pengeluaran'],\n",
        "        'is_ramadan': is_ramadan,\n",
        "        'is_lebaran': is_lebaran,\n",
        "        'is_akhir_tahun': is_akhir_tahun\n",
        "    }\n",
        "    next_month_data.append(next_data)\n",
        "\n",
        "# Buat DataFrame untuk prediksi\n",
        "X_next = pd.DataFrame(next_month_data)\n",
        "\n",
        "# Prediksi dengan model dan baseline\n",
        "X_next_features = X_next[fitur_sederhana]\n",
        "y_next_log = model.predict(X_next_features)\n",
        "y_next = np.expm1(y_next_log)\n",
        "\n",
        "# Hasil prediksi\n",
        "results = pd.DataFrame({\n",
        "    'user_id': X_next['user_id'],\n",
        "    'tahun': X_next['tahun'],\n",
        "    'bulan': X_next['bulan'],\n",
        "    'prediksi_pengeluaran': y_next,\n",
        "    'pengeluaran_bulan_lalu': X_next['pengeluaran_bulan_lalu']\n",
        "})\n",
        "\n",
        "# Untuk user dengan error tinggi, gunakan rata-rata antara prediksi dan bulan lalu\n",
        "results['prediksi_final'] = results['prediksi_pengeluaran']\n",
        "for user in high_error_users:\n",
        "    if user in results['user_id'].values:\n",
        "        mask = results['user_id'] == user\n",
        "        results.loc[mask, 'prediksi_final'] = 0.5 * results.loc[mask, 'prediksi_pengeluaran'] + \\\n",
        "                                             0.5 * results.loc[mask, 'pengeluaran_bulan_lalu']\n",
        "\n",
        "print(\"\\nPrediksi untuk beberapa user (bulan berikutnya):\")\n",
        "print(results[['user_id', 'bulan', 'tahun', 'prediksi_final']].head(10))"
      ],
      "metadata": {
        "colab": {
          "base_uri": "https://localhost:8080/"
        },
        "id": "Bx5s-fjNLckU",
        "outputId": "d1e0a4b8-e80c-4a8a-b0cb-5e0bb200d5d5"
      },
      "execution_count": 24,
      "outputs": [
        {
          "output_type": "stream",
          "name": "stdout",
          "text": [
            "\n",
            "===== PREDIKSI BULAN BERIKUTNYA =====\n",
            "\n",
            "Prediksi untuk beberapa user (bulan berikutnya):\n",
            "  user_id  bulan  tahun  prediksi_final\n",
            "0    U001      4   2024    3.227805e+06\n",
            "1    U002      4   2024    2.320738e+06\n",
            "2    U003      4   2024    5.269732e+06\n",
            "3    U004      5   2024    1.624820e+07\n",
            "4    U005      4   2024    5.713001e+06\n",
            "5    U006      5   2024    6.022564e+06\n",
            "6    U007      5   2024    1.677599e+07\n",
            "7    U008      4   2024    8.152198e+06\n",
            "8    U009      4   2024    1.474930e+07\n",
            "9    U010      4   2024    8.307978e+06\n"
          ]
        },
        {
          "output_type": "stream",
          "name": "stderr",
          "text": [
            "<ipython-input-24-3321280846>:58: FutureWarning: Setting an item of incompatible dtype is deprecated and will raise an error in a future version of pandas. Value '[6030072.352]' has dtype incompatible with float32, please explicitly cast to a compatible dtype first.\n",
            "  results.loc[mask, 'prediksi_final'] = 0.5 * results.loc[mask, 'prediksi_pengeluaran'] + \\\n"
          ]
        }
      ]
    },
    {
      "cell_type": "code",
      "source": [
        "# 22. Simpan model dan prediksi\n",
        "import joblib\n",
        "# Simpan model\n",
        "joblib.dump(model, 'model_xgb_pengeluaran.pkl')\n",
        "\n",
        "# Simpan hasil prediksi\n",
        "results.to_csv('prediksi_pengeluaran_bulanan.csv', index=False)\n",
        "print(\"\\nModel dan hasil prediksi telah disimpan!\")"
      ],
      "metadata": {
        "colab": {
          "base_uri": "https://localhost:8080/"
        },
        "id": "QIDRLhK3Lj9S",
        "outputId": "61e0a782-dfd1-4840-852a-8dee3d1c276c"
      },
      "execution_count": 25,
      "outputs": [
        {
          "output_type": "stream",
          "name": "stdout",
          "text": [
            "\n",
            "Model dan hasil prediksi telah disimpan!\n"
          ]
        }
      ]
    },
    {
      "cell_type": "code",
      "source": [
        "# 23. Cara load model untuk penggunaan di masa depan\n",
        "print(\"\\n===== CONTOH KODE UNTUK MENGGUNAKAN MODEL DI MASA DEPAN =====\")\n",
        "print('''\n",
        "# Load model\n",
        "import joblib\n",
        "model = joblib.load('model_xgb_pengeluaran.pkl')\n",
        "\n",
        "# Siapkan data untuk user baru\n",
        "X_new = pd.DataFrame([{\n",
        "    'pengeluaran_bulan_lalu': 2000000,  # pengeluaran bulan ini\n",
        "    'rolling3_pengeluaran': 1800000,    # rata-rata 3 bulan terakhir\n",
        "    'bulan': 7,                         # bulan yang diprediksi\n",
        "    'is_ramadan': 0,                    # sesuaikan dengan kalender\n",
        "    'is_lebaran': 0,                    # sesuaikan dengan kalender\n",
        "    'is_akhir_tahun': 0                 # 1 jika bulan 12\n",
        "}])\n",
        "\n",
        "# Prediksi\n",
        "y_pred_log = model.predict(X_new)\n",
        "y_pred = np.expm1(y_pred_log)\n",
        "print(f\"Prediksi pengeluaran: Rp {y_pred[0]:,.2f}\")\n",
        "''')\n",
        "\n",
        "print(\"\\nKode selesai dijalankan!\")"
      ],
      "metadata": {
        "colab": {
          "base_uri": "https://localhost:8080/"
        },
        "id": "q73NQD8ALo1N",
        "outputId": "ce99b8c8-f728-4964-da6e-44da8e8cbc6e"
      },
      "execution_count": 26,
      "outputs": [
        {
          "output_type": "stream",
          "name": "stdout",
          "text": [
            "\n",
            "===== CONTOH KODE UNTUK MENGGUNAKAN MODEL DI MASA DEPAN =====\n",
            "\n",
            "# Load model\n",
            "import joblib\n",
            "model = joblib.load('model_xgb_pengeluaran.pkl')\n",
            "\n",
            "# Siapkan data untuk user baru\n",
            "X_new = pd.DataFrame([{\n",
            "    'pengeluaran_bulan_lalu': 2000000,  # pengeluaran bulan ini\n",
            "    'rolling3_pengeluaran': 1800000,    # rata-rata 3 bulan terakhir\n",
            "    'bulan': 7,                         # bulan yang diprediksi\n",
            "    'is_ramadan': 0,                    # sesuaikan dengan kalender\n",
            "    'is_lebaran': 0,                    # sesuaikan dengan kalender\n",
            "    'is_akhir_tahun': 0                 # 1 jika bulan 12\n",
            "}])\n",
            "\n",
            "# Prediksi\n",
            "y_pred_log = model.predict(X_new)\n",
            "y_pred = np.expm1(y_pred_log)\n",
            "print(f\"Prediksi pengeluaran: Rp {y_pred[0]:,.2f}\")\n",
            "\n",
            "\n",
            "Kode selesai dijalankan!\n"
          ]
        }
      ]
    }
  ]
}